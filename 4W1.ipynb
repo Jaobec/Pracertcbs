{
 "cells": [
  {
   "cell_type": "markdown",
   "id": "a232ef39",
   "metadata": {},
   "source": [
    "Workshop1"
   ]
  },
  {
   "cell_type": "code",
   "execution_count": 8,
   "id": "1daf5645",
   "metadata": {},
   "outputs": [
    {
     "name": "stdout",
     "output_type": "stream",
     "text": [
      "[0.5]\n"
     ]
    }
   ],
   "source": [
    "import numpy as np\n",
    "\n",
    "w0 = -0.5\n",
    "x = [[1],\n",
    "     [1]]\n",
    "#x = [1,1]\n",
    "\n",
    "w = [0.5, 0.5]\n",
    "\n",
    "w = np.array(w)\n",
    "x = np.array(x)\n",
    "\n",
    "s = w0 + np.dot(w, x)\n",
    "print(s)"
   ]
  },
  {
   "cell_type": "markdown",
   "id": "4148eac2",
   "metadata": {},
   "source": [
    "Workshop3"
   ]
  },
  {
   "cell_type": "code",
   "execution_count": 10,
   "id": "c60755b5",
   "metadata": {},
   "outputs": [
    {
     "name": "stdout",
     "output_type": "stream",
     "text": [
      "output y = 0 [s =-0.5]\n",
      "output y = 1 [s =0.0]\n",
      "output y = 1 [s =0.0]\n",
      "output y = 1 [s =0.5]\n"
     ]
    }
   ],
   "source": [
    "def and_gate(x1, x2):\n",
    "    w0 = -0.5  #bias\n",
    "    w1 = 0.5   #weight\n",
    "    w2 = 0.5\n",
    "    threshold = 0.0   #t\n",
    "    \n",
    "    s = w0 + (w1 * x1) + (w2 * x2)   #sum\n",
    "    if s>= threshold:\n",
    "        result = 1\n",
    "    else:\n",
    "        result = 0\n",
    "        \n",
    "    print('output y = {} [s ={}]'.format(result,s))\n",
    "    \n",
    "and_gate(0,0)\n",
    "and_gate(0,1)\n",
    "and_gate(1,0)\n",
    "and_gate(1,1)\n"
   ]
  },
  {
   "cell_type": "code",
   "execution_count": null,
   "id": "c8a5ca75",
   "metadata": {},
   "outputs": [],
   "source": []
  }
 ],
 "metadata": {
  "kernelspec": {
   "display_name": "Python 3 (ipykernel)",
   "language": "python",
   "name": "python3"
  },
  "language_info": {
   "codemirror_mode": {
    "name": "ipython",
    "version": 3
   },
   "file_extension": ".py",
   "mimetype": "text/x-python",
   "name": "python",
   "nbconvert_exporter": "python",
   "pygments_lexer": "ipython3",
   "version": "3.9.7"
  }
 },
 "nbformat": 4,
 "nbformat_minor": 5
}
